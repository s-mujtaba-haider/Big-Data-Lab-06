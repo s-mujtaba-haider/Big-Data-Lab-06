{
  "nbformat": 4,
  "nbformat_minor": 0,
  "metadata": {
    "colab": {
      "provenance": []
    },
    "kernelspec": {
      "name": "python3",
      "display_name": "Python 3"
    },
    "language_info": {
      "name": "python"
    }
  },
  "cells": [
    {
      "cell_type": "code",
      "execution_count": null,
      "metadata": {
        "colab": {
          "base_uri": "https://localhost:8080/"
        },
        "id": "rIDQsgRdxCxA",
        "outputId": "451fd4e6-6d7b-4688-84b3-89d99c020694"
      },
      "outputs": [
        {
          "output_type": "stream",
          "name": "stdout",
          "text": [
            "Looking in indexes: https://pypi.org/simple, https://us-python.pkg.dev/colab-wheels/public/simple/\n",
            "Collecting mrjob\n",
            "  Downloading mrjob-0.7.4-py2.py3-none-any.whl (439 kB)\n",
            "\u001b[2K     \u001b[90m━━━━━━━━━━━━━━━━━━━━━━━━━━━━━━━━━━━━━━━\u001b[0m \u001b[32m439.6/439.6 KB\u001b[0m \u001b[31m8.8 MB/s\u001b[0m eta \u001b[36m0:00:00\u001b[0m\n",
            "\u001b[?25hRequirement already satisfied: PyYAML>=3.10 in /usr/local/lib/python3.8/dist-packages (from mrjob) (6.0)\n",
            "Installing collected packages: mrjob\n",
            "Successfully installed mrjob-0.7.4\n"
          ]
        }
      ],
      "source": [
        "pip install mrjob"
      ]
    },
    {
      "cell_type": "markdown",
      "source": [
        "**Q3: Counting words in a file using MRJob:**"
      ],
      "metadata": {
        "id": "ijUBUWsSzsBe"
      }
    },
    {
      "cell_type": "code",
      "source": [
        "%%file countword.py\n",
        "from mrjob.job import MRJob\n",
        "\n",
        "class WordCount(MRJob):\n",
        "\n",
        "    def mapper(self, _, line):\n",
        "        words = line.split()\n",
        "        for word in words:\n",
        "            yield word.lower(), 1\n",
        "\n",
        "    def reducer(self, key, values):\n",
        "        yield key, sum(values)\n",
        "\n",
        "if __name__ == '__main__':\n",
        "    WordCount.run()\n"
      ],
      "metadata": {
        "colab": {
          "base_uri": "https://localhost:8080/"
        },
        "id": "1I-oKJWuxYur",
        "outputId": "87393dbc-f367-446d-b962-84c9224a8498"
      },
      "execution_count": null,
      "outputs": [
        {
          "output_type": "stream",
          "name": "stdout",
          "text": [
            "Overwriting countword.py\n"
          ]
        }
      ]
    },
    {
      "cell_type": "code",
      "source": [
        "! python \"countword.py\" \"text.txt\""
      ],
      "metadata": {
        "colab": {
          "base_uri": "https://localhost:8080/"
        },
        "id": "6ZwecNe8ypZQ",
        "outputId": "10d36b35-84e6-4996-fd70-b6bed49183a2"
      },
      "execution_count": null,
      "outputs": [
        {
          "output_type": "stream",
          "name": "stdout",
          "text": [
            "No configs found; falling back on auto-configuration\n",
            "No configs specified for inline runner\n",
            "Creating temp directory /tmp/countword.root.20230308.151931.513295\n",
            "Running step 1 of 1...\n",
            "job output is in /tmp/countword.root.20230308.151931.513295/output\n",
            "Streaming final output from /tmp/countword.root.20230308.151931.513295/output...\n",
            "\"platfrom\"\t1\n",
            "\"the\"\t1\n",
            "\"geek.\"\t1\n",
            "\"is\"\t1\n",
            "\"for\"\t1\n",
            "\"geek\"\t2\n",
            "Removing temp directory /tmp/countword.root.20230308.151931.513295...\n"
          ]
        }
      ]
    },
    {
      "cell_type": "markdown",
      "source": [
        "**Q4: Inverting Index of each word in a text file using MRJob:**"
      ],
      "metadata": {
        "id": "irug8H0wzxtO"
      }
    },
    {
      "cell_type": "code",
      "source": [
        "class InvertedIndex(MRJob):\n",
        "\n",
        "    def mapper(self, _, line):\n",
        "        words = line.split()\n",
        "        filename = '/content/text.txt'\n",
        "        for word in words:\n",
        "            yield word.lower(), filename\n",
        "\n",
        "    def reducer(self, key, values):\n",
        "        yield key, list(set(values))\n",
        "\n",
        "if __name__ == '__main__':\n",
        "    InvertedIndex.run()"
      ],
      "metadata": {
        "colab": {
          "base_uri": "https://localhost:8080/",
          "height": 148
        },
        "id": "hJnx_sKVzx-m",
        "outputId": "c68d22f5-56e4-4592-c6f1-9dc1f3f5e5b2"
      },
      "execution_count": null,
      "outputs": [
        {
          "output_type": "stream",
          "name": "stderr",
          "text": [
            "usage: ipykernel_launcher.py [options] [input files]\n",
            "ipykernel_launcher.py: error: unrecognized arguments: -f\n"
          ]
        },
        {
          "output_type": "error",
          "ename": "SystemExit",
          "evalue": "ignored",
          "traceback": [
            "An exception has occurred, use %tb to see the full traceback.\n",
            "\u001b[0;31mSystemExit\u001b[0m\u001b[0;31m:\u001b[0m 2\n"
          ]
        }
      ]
    },
    {
      "cell_type": "markdown",
      "source": [
        "**Q5: Counting words starting with each alphabet in a text file using map and reduce functions separately:**"
      ],
      "metadata": {
        "id": "yqHA0i340hfa"
      }
    },
    {
      "cell_type": "code",
      "source": [
        "# Map function\n",
        "def word_starts_with_alphabet(line):\n",
        "    words = line.split()\n",
        "    counts = {}\n",
        "    for word in words:\n",
        "        if word[0].isalpha():\n",
        "            if word[0].lower() in counts:\n",
        "                counts[word[0].lower()] += 1\n",
        "            else:\n",
        "                counts[word[0].lower()] = 1\n",
        "    return counts\n",
        "\n",
        "# Reduce function\n",
        "def combine_counts(counts1, counts2):\n",
        "    for key in counts2:\n",
        "        if key in counts1:\n",
        "            counts1[key] += counts2[key]\n",
        "        else:\n",
        "            counts1[key] = counts2[key]\n",
        "    return counts1\n"
      ],
      "metadata": {
        "id": "74d6Kxzo0h5W"
      },
      "execution_count": null,
      "outputs": []
    },
    {
      "cell_type": "markdown",
      "source": [
        "**Q6: Counting all words of length 5 from a text file and displaying them on the screen using map and reduce functions:**"
      ],
      "metadata": {
        "id": "oZzbvSYr0Rzz"
      }
    },
    {
      "cell_type": "code",
      "source": [
        "# Map function\n",
        "def count_words_of_length_5(line):\n",
        "    words = line.split()\n",
        "    counts = {}\n",
        "    for word in words:\n",
        "        if len(word) == 5:\n",
        "            if word in counts:\n",
        "                counts[word] += 1\n",
        "            else:\n",
        "                counts[word] = 1\n",
        "    return counts\n",
        "\n",
        "# Reduce function\n",
        "def combine_counts(counts1, counts2):\n",
        "    for key in counts2:\n",
        "        if key in counts1:\n",
        "            counts1[key] += counts2[key]\n",
        "        else:\n",
        "            counts1[key] = counts2[key]\n",
        "    return counts1\n",
        "\n",
        "# Main function\n",
        "if __name__ == '__main__':\n",
        "    with open('text.txt') as file:\n",
        "        lines = file.readlines()\n",
        "    word_counts = {}\n",
        "    for line in lines:\n",
        "        counts = count_words_of_length_5(line)\n",
        "        word_counts = combine_counts(word_counts, counts)\n",
        "    for word, count in word_counts.items():\n",
        "        print(f\"{word}: {count}\")\n"
      ],
      "metadata": {
        "colab": {
          "base_uri": "https://localhost:8080/"
        },
        "id": "mXYD7xGU0TzY",
        "outputId": "962b0d0f-74e9-491d-912d-ddca90da588a"
      },
      "execution_count": null,
      "outputs": [
        {
          "output_type": "stream",
          "name": "stdout",
          "text": [
            "geeks: 3\n"
          ]
        }
      ]
    }
  ]
}